{
 "cells": [
  {
   "cell_type": "markdown",
   "metadata": {},
   "source": [
    "## Cover Letter Generator v1.0\n",
    "\n",
    "#### Modified based on https://github.com/kirankoduru/gen-cover-letter"
   ]
  },
  {
   "cell_type": "code",
   "execution_count": 1,
   "metadata": {},
   "outputs": [
    {
     "name": "stdout",
     "output_type": "stream",
     "text": [
      "Requirement already satisfied: fpdf in /Users/tina/anaconda3/lib/python3.6/site-packages (1.7.2)\n",
      "\u001b[31mdistributed 1.21.8 requires msgpack, which is not installed.\u001b[0m\n"
     ]
    }
   ],
   "source": [
    "# Install fpdf module for your python version\n",
    "!pip install fpdf"
   ]
  },
  {
   "cell_type": "code",
   "execution_count": 3,
   "metadata": {},
   "outputs": [],
   "source": [
    "from fpdf import FPDF\n",
    "import json\n",
    "import csv\n",
    "\n",
    "\n",
    "def cl_generator(cl, institutes):\n",
    "\n",
    "    # open csv file and read input\n",
    "    with open(institutes) as inst_list:\n",
    "\n",
    "        reader = csv.reader(inst_list)\n",
    "        rownum = 0\n",
    "\n",
    "        for row in reader:\n",
    "\n",
    "            pdf = FPDF('P', 'mm', 'A4')  # portrait mode, mm , A4 size paper\n",
    "            pdf.add_page()  # new blank page\n",
    "            pdf.set_font('Arial', '', 12)  # font, Style (B,U,I) , fontsize in pt.\n",
    "\n",
    "            #ignore the header row\n",
    "            if rownum == 0:\n",
    "                pass\n",
    "\n",
    "            else:\n",
    "                model_cl = open(cl, 'r')\n",
    "\n",
    "                for line in model_cl:\n",
    "                    \n",
    "                    # Personalize according to your needs\n",
    "                    line = line.replace('#profName', row[0])\n",
    "                    line = line.replace('#positionTitle', row[1])\n",
    "                    line = line.replace('#Department', row[2])\n",
    "                    line = line.replace('#Institute', row[3])\n",
    "\n",
    "                    pdf.write(6, line)\n",
    "                pdf.set_author('Tina Gui')\n",
    "                pdf.output('Cover Letter - ' + row[3] + '.pdf', 'F')\n",
    "       \n",
    "            rownum = rownum + 1\n",
    "        \n"
   ]
  },
  {
   "cell_type": "code",
   "execution_count": 4,
   "metadata": {},
   "outputs": [
    {
     "ename": "FileNotFoundError",
     "evalue": "[Errno 2] No such file or directory: 'Cover Letters/Cover Letter - Purdue University.pdf'",
     "output_type": "error",
     "traceback": [
      "\u001b[0;31m---------------------------------------------------------------------------\u001b[0m",
      "\u001b[0;31mFileNotFoundError\u001b[0m                         Traceback (most recent call last)",
      "\u001b[0;32m<ipython-input-4-3ec6d174204d>\u001b[0m in \u001b[0;36m<module>\u001b[0;34m()\u001b[0m\n\u001b[1;32m      3\u001b[0m \u001b[0;34m\u001b[0m\u001b[0m\n\u001b[1;32m      4\u001b[0m \u001b[0;31m# just use the right file names or modify the ones provided\u001b[0m\u001b[0;34m\u001b[0m\u001b[0;34m\u001b[0m\u001b[0m\n\u001b[0;32m----> 5\u001b[0;31m \u001b[0mcl_generator\u001b[0m\u001b[0;34m(\u001b[0m\u001b[0mcoverletter\u001b[0m\u001b[0;34m,\u001b[0m \u001b[0minst\u001b[0m\u001b[0;34m)\u001b[0m\u001b[0;34m\u001b[0m\u001b[0m\n\u001b[0m",
      "\u001b[0;32m<ipython-input-3-0dd89c267839>\u001b[0m in \u001b[0;36mcl_generator\u001b[0;34m(cl, institutes)\u001b[0m\n\u001b[1;32m     35\u001b[0m                     \u001b[0mpdf\u001b[0m\u001b[0;34m.\u001b[0m\u001b[0mwrite\u001b[0m\u001b[0;34m(\u001b[0m\u001b[0;36m6\u001b[0m\u001b[0;34m,\u001b[0m \u001b[0mline\u001b[0m\u001b[0;34m)\u001b[0m\u001b[0;34m\u001b[0m\u001b[0m\n\u001b[1;32m     36\u001b[0m                 \u001b[0mpdf\u001b[0m\u001b[0;34m.\u001b[0m\u001b[0mset_author\u001b[0m\u001b[0;34m(\u001b[0m\u001b[0;34m'Tina Gui'\u001b[0m\u001b[0;34m)\u001b[0m\u001b[0;34m\u001b[0m\u001b[0m\n\u001b[0;32m---> 37\u001b[0;31m                 \u001b[0mpdf\u001b[0m\u001b[0;34m.\u001b[0m\u001b[0moutput\u001b[0m\u001b[0;34m(\u001b[0m\u001b[0;34m'Cover Letters/Cover Letter - '\u001b[0m \u001b[0;34m+\u001b[0m \u001b[0mrow\u001b[0m\u001b[0;34m[\u001b[0m\u001b[0;36m3\u001b[0m\u001b[0;34m]\u001b[0m \u001b[0;34m+\u001b[0m \u001b[0;34m'.pdf'\u001b[0m\u001b[0;34m,\u001b[0m \u001b[0;34m'F'\u001b[0m\u001b[0;34m)\u001b[0m\u001b[0;34m\u001b[0m\u001b[0m\n\u001b[0m\u001b[1;32m     38\u001b[0m \u001b[0;34m\u001b[0m\u001b[0m\n\u001b[1;32m     39\u001b[0m             \u001b[0mrownum\u001b[0m \u001b[0;34m=\u001b[0m \u001b[0mrownum\u001b[0m \u001b[0;34m+\u001b[0m \u001b[0;36m1\u001b[0m\u001b[0;34m\u001b[0m\u001b[0m\n",
      "\u001b[0;32m~/anaconda3/lib/python3.6/site-packages/fpdf/fpdf.py\u001b[0m in \u001b[0;36moutput\u001b[0;34m(self, name, dest)\u001b[0m\n\u001b[1;32m   1077\u001b[0m         \u001b[0;32melif\u001b[0m \u001b[0mdest\u001b[0m\u001b[0;34m==\u001b[0m\u001b[0;34m'F'\u001b[0m\u001b[0;34m:\u001b[0m\u001b[0;34m\u001b[0m\u001b[0m\n\u001b[1;32m   1078\u001b[0m             \u001b[0;31m#Save to local file\u001b[0m\u001b[0;34m\u001b[0m\u001b[0;34m\u001b[0m\u001b[0m\n\u001b[0;32m-> 1079\u001b[0;31m             \u001b[0mf\u001b[0m\u001b[0;34m=\u001b[0m\u001b[0mopen\u001b[0m\u001b[0;34m(\u001b[0m\u001b[0mname\u001b[0m\u001b[0;34m,\u001b[0m\u001b[0;34m'wb'\u001b[0m\u001b[0;34m)\u001b[0m\u001b[0;34m\u001b[0m\u001b[0m\n\u001b[0m\u001b[1;32m   1080\u001b[0m             \u001b[0;32mif\u001b[0m\u001b[0;34m(\u001b[0m\u001b[0;32mnot\u001b[0m \u001b[0mf\u001b[0m\u001b[0;34m)\u001b[0m\u001b[0;34m:\u001b[0m\u001b[0;34m\u001b[0m\u001b[0m\n\u001b[1;32m   1081\u001b[0m                 \u001b[0mself\u001b[0m\u001b[0;34m.\u001b[0m\u001b[0merror\u001b[0m\u001b[0;34m(\u001b[0m\u001b[0;34m'Unable to create output file: '\u001b[0m\u001b[0;34m+\u001b[0m\u001b[0mname\u001b[0m\u001b[0;34m)\u001b[0m\u001b[0;34m\u001b[0m\u001b[0m\n",
      "\u001b[0;31mFileNotFoundError\u001b[0m: [Errno 2] No such file or directory: 'Cover Letters/Cover Letter - Purdue University.pdf'"
     ]
    }
   ],
   "source": [
    "coverletter = 'cl.txt'\n",
    "inst = 'list.csv'\n",
    "\n",
    "# just use the right file names or modify the ones provided\n",
    "cl_generator(coverletter, inst)"
   ]
  },
  {
   "cell_type": "code",
   "execution_count": null,
   "metadata": {},
   "outputs": [],
   "source": []
  }
 ],
 "metadata": {
  "kernelspec": {
   "display_name": "Python 3",
   "language": "python",
   "name": "python3"
  },
  "language_info": {
   "codemirror_mode": {
    "name": "ipython",
    "version": 3
   },
   "file_extension": ".py",
   "mimetype": "text/x-python",
   "name": "python",
   "nbconvert_exporter": "python",
   "pygments_lexer": "ipython3",
   "version": "3.6.5"
  }
 },
 "nbformat": 4,
 "nbformat_minor": 2
}
